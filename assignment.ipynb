{
  "nbformat": 4,
  "nbformat_minor": 0,
  "metadata": {
    "colab": {
      "provenance": [],
      "authorship_tag": "ABX9TyOP5k7pcMsSZ/bwUAR6lbY+",
      "include_colab_link": true
    },
    "kernelspec": {
      "name": "python3",
      "display_name": "Python 3"
    },
    "language_info": {
      "name": "python"
    }
  },
  "cells": [
    {
      "cell_type": "markdown",
      "metadata": {
        "id": "view-in-github",
        "colab_type": "text"
      },
      "source": [
        "<a href=\"https://colab.research.google.com/github/sidzz-cosmos/PYTHONmlassignment/blob/main/assignment.ipynb\" target=\"_parent\"><img src=\"https://colab.research.google.com/assets/colab-badge.svg\" alt=\"Open In Colab\"/></a>"
      ]
    },
    {
      "cell_type": "code",
      "execution_count": 3,
      "metadata": {
        "colab": {
          "base_uri": "https://localhost:8080/"
        },
        "id": "JK9w3og0Xsdy",
        "outputId": "ac153ca8-62cb-45aa-8317-f1495e7692ef"
      },
      "outputs": [
        {
          "output_type": "stream",
          "name": "stdout",
          "text": [
            "enter first number:55\n",
            "enter second number:44\n",
            "99\n"
          ]
        }
      ],
      "source": [
        "\n",
        "#Q1 program that takes two numbers as input and returns their sum\n",
        "a=int(input(\"enter first number:\"))\n",
        "b=int(input(\"enter second number:\"))\n",
        "print(a+b)\n",
        "\n"
      ]
    },
    {
      "cell_type": "code",
      "source": [
        "#Q2 program that checks whether a given number is even or odd\n",
        "i=int(input(\"enter a number: \"))\n",
        "if i%2==0:\n",
        "  print(\" given number is even \")\n",
        "else:\n",
        "    print(\" the given number is odd\")"
      ],
      "metadata": {
        "colab": {
          "base_uri": "https://localhost:8080/"
        },
        "id": "teLyswqJX7MM",
        "outputId": "0cff56e3-e75f-4f84-e729-26102ec5beca"
      },
      "execution_count": 5,
      "outputs": [
        {
          "output_type": "stream",
          "name": "stdout",
          "text": [
            "enter a number: 46\n",
            " given number is even \n"
          ]
        }
      ]
    },
    {
      "cell_type": "code",
      "source": [
        "#Q3 program that calculates factorial of a number\n",
        "\n",
        "def factorial(num):\n",
        " if num==0 or num==1:\n",
        "  return 1\n",
        " else:\n",
        "  b=num*factorial(num-1)\n",
        "  return b\n",
        "\n",
        "a=int(input(\"enter a number \"))\n",
        "factorial(a)\n",
        "\n"
      ],
      "metadata": {
        "colab": {
          "base_uri": "https://localhost:8080/"
        },
        "id": "g6xrJiVvcEJB",
        "outputId": "f22e47ee-6210-4201-f902-6ee79f47f75d"
      },
      "execution_count": 7,
      "outputs": [
        {
          "name": "stdout",
          "output_type": "stream",
          "text": [
            "enter a number 4\n"
          ]
        },
        {
          "output_type": "execute_result",
          "data": {
            "text/plain": [
              "24"
            ]
          },
          "metadata": {},
          "execution_count": 7
        }
      ]
    },
    {
      "cell_type": "code",
      "source": [
        "#Q4 program that asks user its name and prints a greeting message\n",
        "a=input(\"what is your name? \")\n",
        "print(f\"Greetings {a}, how are you doing ?\")\n",
        ""
      ],
      "metadata": {
        "colab": {
          "base_uri": "https://localhost:8080/"
        },
        "id": "0wIs8t4rcEMD",
        "outputId": "1e7a85bd-19ee-438b-c87e-095d6f302602"
      },
      "execution_count": 8,
      "outputs": [
        {
          "output_type": "stream",
          "name": "stdout",
          "text": [
            "what is your name? BAKA\n",
            "Greetings BAKA, how are you doing ?\n"
          ]
        }
      ]
    },
    {
      "cell_type": "code",
      "source": [
        "#Q5: program that takes a string as input and writes it in a text file\n",
        "straang=input(\"enter something to written in text file: \")\n",
        "file_name = \"ant.txt\"\n",
        "with open(file_name, \"w\") as file:\n",
        "        file.write(straang)\n",
        "#Q6: program that reads the content from a text file and prints it in the console\n",
        "with open(\"ant.txt\", 'r') as file:\n",
        "    content = file.read()\n",
        "    print(\"Contents of the file:\")\n",
        "    print(content)"
      ],
      "metadata": {
        "colab": {
          "base_uri": "https://localhost:8080/"
        },
        "id": "kUknhsOScEPI",
        "outputId": "0ad345cd-8f65-4a41-f4ca-ca936a76f1e5"
      },
      "execution_count": 10,
      "outputs": [
        {
          "output_type": "stream",
          "name": "stdout",
          "text": [
            "enter something to written in text file: hathi mera sathi\n",
            "Contents of the file:\n",
            "hathi mera sathi\n"
          ]
        }
      ]
    },
    {
      "cell_type": "code",
      "source": [
        "\n",
        "#Q7: program that takes a string as input and returns its length\n",
        "a=input(\"enter a string \")\n",
        "len(a)"
      ],
      "metadata": {
        "colab": {
          "base_uri": "https://localhost:8080/"
        },
        "id": "r935bPmscER1",
        "outputId": "bc2bf5a7-b48e-4208-f16a-b1a18098e485"
      },
      "execution_count": 16,
      "outputs": [
        {
          "name": "stdout",
          "output_type": "stream",
          "text": [
            "enter a string alukaluchalu\n"
          ]
        },
        {
          "output_type": "execute_result",
          "data": {
            "text/plain": [
              "12"
            ]
          },
          "metadata": {},
          "execution_count": 16
        }
      ]
    },
    {
      "cell_type": "code",
      "source": [
        "\n",
        "#Q8: program that concatenates two strings and returns its result\n",
        "b=input(\"enter first string \" )\n",
        "c=input(\"enter second string \" )\n",
        "print(b+c)"
      ],
      "metadata": {
        "colab": {
          "base_uri": "https://localhost:8080/"
        },
        "id": "skf1H39OcEUg",
        "outputId": "49d2b147-0690-4fba-fd81-ef1e94f69cf1"
      },
      "execution_count": 17,
      "outputs": [
        {
          "output_type": "stream",
          "name": "stdout",
          "text": [
            "enter first string pika\n",
            "enter second string chu\n",
            "pikachu\n"
          ]
        }
      ]
    },
    {
      "cell_type": "code",
      "source": [
        "#Q9: program to check of a substrings is present in a given string\n",
        "main_string=input(\"enter a main string \")\n",
        "sub_string=input(\"enter a substring \")\n",
        "print(sub_string in main_string)"
      ],
      "metadata": {
        "colab": {
          "base_uri": "https://localhost:8080/"
        },
        "id": "tZbvwoKxcEXH",
        "outputId": "55698a34-3c99-4bba-eb6b-fe7f049f9e0b"
      },
      "execution_count": 18,
      "outputs": [
        {
          "output_type": "stream",
          "name": "stdout",
          "text": [
            "enter a main string TARAM\n",
            "enter a substring RAM\n",
            "True\n"
          ]
        }
      ]
    },
    {
      "cell_type": "code",
      "source": [
        "\n",
        "#Q10 : program that converts a string to uppercase\n",
        "a=input(\"enter a string \")\n",
        "a.upper()"
      ],
      "metadata": {
        "colab": {
          "base_uri": "https://localhost:8080/",
          "height": 54
        },
        "id": "5vCnYnHycEZ9",
        "outputId": "b8cefeea-c661-4be3-c723-f1eb4c1b764f"
      },
      "execution_count": 19,
      "outputs": [
        {
          "name": "stdout",
          "output_type": "stream",
          "text": [
            "enter a string wahpaji\n"
          ]
        },
        {
          "output_type": "execute_result",
          "data": {
            "text/plain": [
              "'WAHPAJI'"
            ],
            "application/vnd.google.colaboratory.intrinsic+json": {
              "type": "string"
            }
          },
          "metadata": {},
          "execution_count": 19
        }
      ]
    },
    {
      "cell_type": "code",
      "source": [
        "#Q11 program that generates the first n numbers in fibonacci sequence\n",
        "\n",
        "'''\n",
        "fibonacci seq = 0 1 1 2 3 5 8 13 21...\n",
        "-> next num is sum of previous 2 elements\n",
        "this program will return a list of n fibonacci numbers\n",
        "'''\n",
        "def fibo(x):\n",
        "  if x <= 0:\n",
        "        return []\n",
        "  elif x == 1:\n",
        "        return [0]\n",
        "  elif x == 2:\n",
        "        return [0, 1]\n",
        "  fibonacci_sequence = [0, 1] # initialisation\n",
        "  for i in range(2, x):\n",
        "          next_number = fibonacci_sequence[-1] + fibonacci_sequence[-2]\n",
        "          fibonacci_sequence.append(next_number)\n",
        "  return fibonacci_sequence\n",
        "n = int(input(\"Enter the number of Fibonacci numbers to generate: \"))\n",
        "print(fibo(n))\n"
      ],
      "metadata": {
        "colab": {
          "base_uri": "https://localhost:8080/"
        },
        "id": "vu6GPxGOcEcx",
        "outputId": "b84d05f8-d63e-4f3b-89d0-4c4e131ac87c"
      },
      "execution_count": 20,
      "outputs": [
        {
          "output_type": "stream",
          "name": "stdout",
          "text": [
            "Enter the number of Fibonacci numbers to generate: 5\n",
            "[0, 1, 1, 2, 3]\n"
          ]
        }
      ]
    },
    {
      "cell_type": "code",
      "source": [
        "#Q12 program that calculates sum of digits of a given number\n",
        "'''\n",
        "approach:\n",
        "using while loop\n",
        "'''\n",
        "def sum_of_dig(num):\n",
        "  sum=0\n",
        "  while num>0:\n",
        "    digits=num%10\n",
        "    sum=sum+digits\n",
        "    num=num//10\n",
        "  return sum\n",
        "\n",
        "n=int(input(\"enter a number:\"))\n",
        "print(sum_of_dig(n))\n"
      ],
      "metadata": {
        "colab": {
          "base_uri": "https://localhost:8080/"
        },
        "id": "vRQ2ICpicEfr",
        "outputId": "d90c1bee-cbe7-4b08-c849-e7b60c08993d"
      },
      "execution_count": 22,
      "outputs": [
        {
          "output_type": "stream",
          "name": "stdout",
          "text": [
            "enter a number:898\n",
            "25\n"
          ]
        }
      ]
    },
    {
      "cell_type": "code",
      "source": [
        "#Q13 program that asks the user their birth year and calculates their age\n",
        "age=int(input(\"your birth year : \"))\n",
        "print(f\"this year (that is 2024) you will be or you are {2024-age} years old\")\n",
        "\n"
      ],
      "metadata": {
        "colab": {
          "base_uri": "https://localhost:8080/"
        },
        "id": "MstuArWDcEiR",
        "outputId": "4f5d31a7-b495-4f7c-e6d8-119d72406e26"
      },
      "execution_count": 24,
      "outputs": [
        {
          "output_type": "stream",
          "name": "stdout",
          "text": [
            "your birth year : 999\n",
            "this year (that is 2024) you will be or you are 1025 years old\n"
          ]
        }
      ]
    },
    {
      "cell_type": "code",
      "source": [
        "#Q14 program that reads multiple lines of input until user enters an empty line and then prints all the lines\n",
        "lines=[]\n",
        "while True:\n",
        "          line = input()\n",
        "          if line == \"\":\n",
        "              break\n",
        "          lines.append(line)\n",
        "print(\"\\nYou entered:\")\n",
        "for line in lines:\n",
        "          print(line)"
      ],
      "metadata": {
        "colab": {
          "base_uri": "https://localhost:8080/"
        },
        "id": "wgIpuR7-cElI",
        "outputId": "c5067f3c-eb62-4446-eda4-0cff40ff10dc"
      },
      "execution_count": 26,
      "outputs": [
        {
          "output_type": "stream",
          "name": "stdout",
          "text": [
            "chipichipi\n",
            "chapa chapa\n",
            "ruby ruby\n",
            "daba daba \n",
            "magic pony \n",
            "ruby ruby \n",
            "boom boom boom\n",
            "\n",
            "\n",
            "You entered:\n",
            "chipichipi\n",
            "chapa chapa\n",
            "ruby ruby\n",
            "daba daba \n",
            "magic pony \n",
            "ruby ruby \n",
            "boom boom boom\n"
          ]
        }
      ]
    },
    {
      "cell_type": "code",
      "source": [
        "#Q15 program that reads data from csv file and writes it in the console\n",
        "import csv\n",
        "from google.colab import files\n",
        "uploaded = files.upload()\n",
        "\n",
        "file_path = list(uploaded.keys())[0]\n",
        "\n",
        "with open(file_path, mode='r', newline='', encoding='utf-8') as csv_file:\n",
        "            content = csv_file.read()\n",
        "            print(content)\n"
      ],
      "metadata": {
        "id": "iSGMqkylcE3x"
      },
      "execution_count": null,
      "outputs": []
    },
    {
      "cell_type": "code",
      "source": [
        "#Q16 Program that counts the frequency of each character in a string\n",
        "s = input(\"Enter a string: \")\n",
        "frequency = {}\n",
        "for char in s:\n",
        "    if char in frequency:\n",
        "        frequency[char] += 1\n",
        "    else:\n",
        "        frequency[char] = 1\n",
        "for char, count in frequency.items():\n",
        "    print(f\"'{char}': {count}\")"
      ],
      "metadata": {
        "colab": {
          "base_uri": "https://localhost:8080/"
        },
        "id": "tz1V81EacEvu",
        "outputId": "6d090a92-d026-42cf-e29c-6888f2435802"
      },
      "execution_count": 28,
      "outputs": [
        {
          "output_type": "stream",
          "name": "stdout",
          "text": [
            "Enter a string: hellos\n",
            "'h': 1\n",
            "'e': 1\n",
            "'l': 2\n",
            "'o': 1\n",
            "'s': 1\n"
          ]
        }
      ]
    },
    {
      "cell_type": "code",
      "source": [
        "#Q17 program that converts a given string to title case\n",
        "a=input(\"enter a string : \")\n",
        "\n",
        "print(a.title())"
      ],
      "metadata": {
        "colab": {
          "base_uri": "https://localhost:8080/"
        },
        "id": "gbpK0qVDcEyU",
        "outputId": "a8b3243d-0c3d-4780-a908-84b627ec4f2e"
      },
      "execution_count": 29,
      "outputs": [
        {
          "output_type": "stream",
          "name": "stdout",
          "text": [
            "enter a string : just looking like a wow\n",
            "Just Looking Like A Wow\n"
          ]
        }
      ]
    },
    {
      "cell_type": "code",
      "source": [
        "#Q18 program that checks if two strings are anagram of each other\n",
        "'''\n",
        "Anagrams are words or phrases formed by rearranging the letters of another word or phrase, using all the original letters exactly once.\n",
        "For example, \"listen\" can be rearranged to form \"silent.\"\n",
        "'''\n",
        "str1=input(\"enter first word \").lower()\n",
        "str2=input(\"enter second word \").lower()\n",
        "if sorted(str1)==sorted(str2):\n",
        "  print(\"the given words are anagram\")\n",
        "else:\n",
        "  print(\" the given words are not anagram\")\n"
      ],
      "metadata": {
        "colab": {
          "base_uri": "https://localhost:8080/"
        },
        "id": "p0vcVUrKcE1C",
        "outputId": "77f02cc3-2f0f-43a1-9818-c30ecc27fe99"
      },
      "execution_count": 30,
      "outputs": [
        {
          "output_type": "stream",
          "name": "stdout",
          "text": [
            "enter first word MOMO\n",
            "enter second word GOJO\n",
            " the given words are not anagram\n"
          ]
        }
      ]
    },
    {
      "cell_type": "code",
      "source": [
        "#Q19 program that removes all punctuations in a given string\n",
        "import string\n",
        "a=input(\"enter a string: \")\n",
        "translator_parameter=a.maketrans(\"\",\"\",string.punctuation)\n",
        "new_str=a.translate(translator_parameter)\n",
        "print(new_str)\n",
        ""
      ],
      "metadata": {
        "colab": {
          "base_uri": "https://localhost:8080/"
        },
        "id": "beqBtL59cE7L",
        "outputId": "5b282f35-94a1-4dbd-8ff1-03bab9ef2ed1"
      },
      "execution_count": 32,
      "outputs": [
        {
          "output_type": "stream",
          "name": "stdout",
          "text": [
            "enter a string: nyaa, itchi , mi, saan\n",
            "nyaa itchi  mi saan\n"
          ]
        }
      ]
    },
    {
      "cell_type": "code",
      "source": [
        "#20 program that takes a list of numbers and returns their sum\n",
        "\n",
        "numbers=[]\n",
        "input_numbers=input(\"Enter numbers separated by space: \")\n",
        "numbers=input_numbers.split()\n",
        "sum=0\n",
        "for i in numbers:\n",
        "  sum=sum+int(i)\n",
        "print(f\"The sum of the numbers is: {sum}\")\n",
        ""
      ],
      "metadata": {
        "colab": {
          "base_uri": "https://localhost:8080/"
        },
        "id": "HrXWtrvamSu6",
        "outputId": "1cb5c389-62da-4c23-d9da-e28a193f5557"
      },
      "execution_count": 40,
      "outputs": [
        {
          "output_type": "stream",
          "name": "stdout",
          "text": [
            "Enter numbers separated by space: 5 5 8 7 5 2\n",
            "The sum of the numbers is: 32\n"
          ]
        }
      ]
    },
    {
      "cell_type": "code",
      "source": [
        "#21 program that counts the occurrence of a specific element in a list\n",
        "elements =input(\"Enter elements separated by space: \")\n",
        "elements_list= elements.split()\n",
        "target= input(\"Enter the specific element to count: \")\n",
        "count=0\n",
        "\n",
        "for element in elements_list:\n",
        "  if element == target:\n",
        "   count += 1\n",
        "print(f\"The element '{target}' occurs {count} times in the list.\")"
      ],
      "metadata": {
        "colab": {
          "base_uri": "https://localhost:8080/"
        },
        "id": "D06RT10WmSrc",
        "outputId": "d707d381-31b2-4f65-ba53-ff63d9856b77"
      },
      "execution_count": 41,
      "outputs": [
        {
          "output_type": "stream",
          "name": "stdout",
          "text": [
            "Enter elements separated by space: 8 5 7 1 8 7 9\n",
            "Enter the specific element to count: 7\n",
            "The element '7' occurs 2 times in the list.\n"
          ]
        }
      ]
    },
    {
      "cell_type": "code",
      "source": [
        "#Q22 program that returns minimum and maximum numbers from a list of numbers\n",
        "list=[4,5,54, 8, 2, 15, 44, 84,6 ,54 ,4]\n",
        "list.sort()\n",
        "print(f\"maximum number in the list is: {list[-1]} \")\n",
        "print(f\"minimum number in the list is: {list[0]} \")\n"
      ],
      "metadata": {
        "colab": {
          "base_uri": "https://localhost:8080/"
        },
        "id": "IOqIps5mq2VI",
        "outputId": "51ae3844-cf40-4e92-e35c-ce533be4ecd7"
      },
      "execution_count": 43,
      "outputs": [
        {
          "output_type": "stream",
          "name": "stdout",
          "text": [
            "maximum number in the list is: 84 \n",
            "minimum number in the list is: 2 \n"
          ]
        }
      ]
    },
    {
      "cell_type": "code",
      "source": [
        "#Q23 program to convert temperature form celsius to farhenheit and vice versa\n",
        "degree=input(\"enter 'c' to convert from celsius to farenheit and enter 'f' to convert from farhenheit to celsius: \" )\n",
        "temp=int(input(\"enter temperature : \"))\n",
        "\n",
        "if degree=='f':\n",
        "  temp_in_C=(temp-32)*5/9\n",
        "  print(f\"temperature is {temp_in_C} degree celsius\")\n",
        "else:\n",
        "  temp_in_F=(temp*1.8)+32\n",
        "  print(f\"temperature is {temp_in_F} degree Farhenheit\")"
      ],
      "metadata": {
        "colab": {
          "base_uri": "https://localhost:8080/"
        },
        "id": "j3vTkYZBpXEE",
        "outputId": "8c335edb-8345-488e-81f9-c9beaa3a9a30"
      },
      "execution_count": 50,
      "outputs": [
        {
          "output_type": "stream",
          "name": "stdout",
          "text": [
            "enter 'c' to convert from celsius to farenheit and enter 'f' to convert from farhenheit to celsius: f\n",
            "enter temperature : 55\n",
            "temperature is 12.777777777777779 degree celsius\n"
          ]
        }
      ]
    },
    {
      "cell_type": "code",
      "source": [
        "#Q24 simple calculator\n",
        "def calculator(num1, num2, operator):\n",
        "  \"\"\"Performs a calculation on two numbers.\n",
        "\n",
        "  Args:\n",
        "    num1: The first number.\n",
        "    num2: The second number.\n",
        "    operator: The operator to use (+, -, *, /).\n",
        "\n",
        "  Returns:\n",
        "    The result of the calculation, or an error message if the operator is invalid.\n",
        "  \"\"\"\n",
        "  if operator == '+':\n",
        "    return num1 + num2\n",
        "  elif operator == '-':\n",
        "    return num1 - num2\n",
        "  elif operator == '*':\n",
        "    return num1 * num2\n",
        "  elif operator == '/':\n",
        "    if num2 == 0:\n",
        "      return \"Error: Division by zero\"\n",
        "    else:\n",
        "      return num1 / num2\n",
        "  else:\n",
        "    return \"Error: Invalid operator\"\n",
        "\n",
        "# Get input from the user\n",
        "num1 = float(input(\"Enter the first number: \"))\n",
        "num2 = float(input(\"Enter the second number: \"))\n",
        "operator = input(\"Enter the operator (+, -, *, /): \")\n",
        "\n",
        "# Perform the calculation and print the result\n",
        "result = calculator(num1, num2, operator)\n",
        "print(f\"Result: {result}\")"
      ],
      "metadata": {
        "colab": {
          "base_uri": "https://localhost:8080/"
        },
        "id": "Rgiv3qPOstc6",
        "outputId": "5a1fcd5e-99aa-45c6-bfe5-15b8d71af2f6"
      },
      "execution_count": 48,
      "outputs": [
        {
          "output_type": "stream",
          "name": "stdout",
          "text": [
            "Enter the first number: 555\n",
            "Enter the second number: 88\n",
            "Enter the operator (+, -, *, /): *\n",
            "Result: 48840.0\n"
          ]
        }
      ]
    },
    {
      "cell_type": "code",
      "source": [
        "#Q25 program that copies the content of a file to another file\n",
        "from google.colab import files\n",
        "\n",
        "def copy_file_contents(source_file, destination_file):\n",
        "    try:\n",
        "        uploaded = files.upload()\n",
        "        content = uploaded[source_file].decode('utf-8')  # Read content from uploaded file\n",
        "        with open(destination_file, 'w') as destination:\n",
        "            destination.write(content)\n",
        "        print(f\"File '{source_file}' copied to '{destination_file}' successfully.\")\n",
        "    except Exception as e:\n",
        "        print(f\"An error occurred: {e}\")"
      ],
      "metadata": {
        "id": "YFVxime3stDR"
      },
      "execution_count": 47,
      "outputs": []
    },
    {
      "cell_type": "code",
      "source": [
        "#Q26 python that checks if a string starts with a given prefix or ends with a given suffix\n",
        "\n",
        "def check_prefix_suffix(text, prefix, suffix):\n",
        "  if text.startswith(prefix):\n",
        "    print(\"String starts with the given prefix.\")\n",
        "  else:\n",
        "    print(\"String does not start with the given prefix.\")\n",
        "\n",
        "  if text.endswith(suffix):\n",
        "    print(\"String ends with the given suffix.\")\n",
        "  else:\n",
        "    print(\"String does not end with the given suffix.\")\n",
        "\n",
        "input_string = input(\"Enter a string: \")\n",
        "input_prefix = input(\"Enter a prefix: \")\n",
        "input_suffix = input(\"Enter a suffix: \")\n",
        "\n",
        "check_prefix_suffix(input_string, input_prefix, input_suffix)\n"
      ],
      "metadata": {
        "colab": {
          "base_uri": "https://localhost:8080/"
        },
        "id": "angD5m8UmpU8",
        "outputId": "f65c34d5-ad8e-4e45-ee71-cba8bb76ac2d"
      },
      "execution_count": 36,
      "outputs": [
        {
          "output_type": "stream",
          "name": "stdout",
          "text": [
            "Enter a string: mauwmauw\n",
            "Enter a prefix: mauw\n",
            "Enter a suffix: hheuehue\n",
            "String starts with the given prefix.\n",
            "String does not end with the given suffix.\n"
          ]
        }
      ]
    },
    {
      "cell_type": "code",
      "source": [
        "#Q27 python code that converts a string into a list of its characters\n",
        "def string_to_list(text):\n",
        "  return list(text)\n",
        "\n",
        "input_string = input(\"Enter a string: \")\n",
        "result = string_to_list(input_string)\n",
        "print(result)"
      ],
      "metadata": {
        "colab": {
          "base_uri": "https://localhost:8080/"
        },
        "id": "eBm_rjH0mSdb",
        "outputId": "988d52cc-35a9-49b4-e85b-e02b31a838c2"
      },
      "execution_count": 33,
      "outputs": [
        {
          "output_type": "stream",
          "name": "stdout",
          "text": [
            "Enter a string: mia more moremia\n",
            "['m', 'i', 'a', ' ', 'm', 'o', 'r', 'e', ' ', 'm', 'o', 'r', 'e', 'm', 'i', 'a']\n"
          ]
        }
      ]
    }
  ]
}